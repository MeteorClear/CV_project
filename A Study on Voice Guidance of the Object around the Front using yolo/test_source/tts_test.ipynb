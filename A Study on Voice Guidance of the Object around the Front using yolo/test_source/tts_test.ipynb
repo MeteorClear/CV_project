{
 "cells": [
  {
   "cell_type": "code",
   "execution_count": 3,
   "metadata": {},
   "outputs": [],
   "source": [
    "import pyttsx3\n",
    "import time"
   ]
  },
  {
   "cell_type": "code",
   "execution_count": 4,
   "metadata": {},
   "outputs": [
    {
     "data": {
      "text/plain": [
       "'\\nengine = pyttsx3.init()\\ntext = \"파이썬 TTS 모듈을 테스트 중입니다.\"\\nengine.say(text)\\nengine.runAndWait()\\n'"
      ]
     },
     "execution_count": 4,
     "metadata": {},
     "output_type": "execute_result"
    }
   ],
   "source": [
    "'''\n",
    "engine = pyttsx3.init()\n",
    "text = \"파이썬 TTS 모듈을 테스트 중입니다.\"\n",
    "engine.say(text)\n",
    "engine.runAndWait()\n",
    "'''"
   ]
  },
  {
   "cell_type": "code",
   "execution_count": 5,
   "metadata": {},
   "outputs": [],
   "source": [
    "def tts_play(text, wait_time=0):\n",
    "    engine = pyttsx3.init()\n",
    "\n",
    "    engine.say(text)\n",
    "    engine.runAndWait()\n",
    "\n",
    "    time.sleep(wait_time)"
   ]
  },
  {
   "cell_type": "code",
   "execution_count": 7,
   "metadata": {},
   "outputs": [],
   "source": [
    "test_text = '입력된 텍스트에 대해 pyttsx3로 tts를 재생합니다. play tts in pyttsx3 of inputed text'\n",
    "tts_play(test_text)"
   ]
  },
  {
   "cell_type": "code",
   "execution_count": null,
   "metadata": {},
   "outputs": [],
   "source": []
  }
 ],
 "metadata": {
  "kernelspec": {
   "display_name": "olv",
   "language": "python",
   "name": "python3"
  },
  "language_info": {
   "codemirror_mode": {
    "name": "ipython",
    "version": 3
   },
   "file_extension": ".py",
   "mimetype": "text/x-python",
   "name": "python",
   "nbconvert_exporter": "python",
   "pygments_lexer": "ipython3",
   "version": "3.10.9"
  }
 },
 "nbformat": 4,
 "nbformat_minor": 2
}
