{
 "cells": [
  {
   "cell_type": "markdown",
   "metadata": {},
   "source": [
    "https://deepspeech.readthedocs.io/en/r0.9/?badge=latest\n",
    "\n",
    "https://pypi.org/project/pocketsphinx/\n"
   ]
  },
  {
   "cell_type": "code",
   "execution_count": 2,
   "metadata": {},
   "outputs": [],
   "source": [
    "from pocketsphinx import LiveSpeech"
   ]
  },
  {
   "cell_type": "code",
   "execution_count": 3,
   "metadata": {},
   "outputs": [
    {
     "name": "stdout",
     "output_type": "stream",
     "text": [
      "at his test at this as teach people to that\n",
      "\n",
      "\n",
      "\n",
      "huh\n",
      "the\n",
      "they say he's ok and you need a good night's speech that as he he will do\n",
      "\n",
      "\n",
      "at what looked like\n",
      "it works for its lie\n",
      "\n",
      "it\n",
      "he can fly in those lung\n",
      "\n",
      "and who who who hated it\n",
      "three\n",
      "one\n",
      "two\n",
      "three\n",
      "\n",
      "fly\n",
      "why\n",
      "why\n",
      "rely\n",
      "oh cutbacks\n",
      "\n"
     ]
    }
   ],
   "source": [
    "speech = LiveSpeech()\n",
    "for phrase in speech:\n",
    "    print(phrase)"
   ]
  }
 ],
 "metadata": {
  "kernelspec": {
   "display_name": "olv",
   "language": "python",
   "name": "python3"
  },
  "language_info": {
   "codemirror_mode": {
    "name": "ipython",
    "version": 3
   },
   "file_extension": ".py",
   "mimetype": "text/x-python",
   "name": "python",
   "nbconvert_exporter": "python",
   "pygments_lexer": "ipython3",
   "version": "3.10.9"
  }
 },
 "nbformat": 4,
 "nbformat_minor": 2
}
